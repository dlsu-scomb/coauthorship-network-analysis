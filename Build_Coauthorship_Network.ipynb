{
  "nbformat": 4,
  "nbformat_minor": 0,
  "metadata": {
    "colab": {
      "provenance": []
    },
    "kernelspec": {
      "name": "python3",
      "display_name": "Python 3"
    },
    "language_info": {
      "name": "python"
    }
  },
  "cells": [
    {
      "cell_type": "markdown",
      "source": [
        "### This script was used in the \"Research landscape of Filipino mathematicians: A co-authorship network analysis\" by Paul K. Yu, Gerard C. Aurellano, Edriel B. Guanzon, Ethan Matthew T. Templonuevo, Unisse C. Chua, Briane Paul V. Samson, John Rhayel S. Delos Santos, and Angelyn R. Lao to build a combinatorial co-authorship pairing to form the edges of the network in Gephi-readable format.\n"
      ],
      "metadata": {
        "id": "DIG2lWwzJZxO"
      }
    },
    {
      "cell_type": "code",
      "execution_count": null,
      "metadata": {
        "id": "4_TcoJPnG58s"
      },
      "outputs": [],
      "source": [
        "# import libraries\n",
        "import pandas as pd\n",
        "import numpy as np"
      ]
    },
    {
      "cell_type": "code",
      "source": [
        "# build coauthorship network\n",
        "df = pd.read_csv('raw_edge2.csv')\n",
        "\n",
        "src = []\n",
        "tgt = []\n",
        "temp = []\n",
        "\n",
        "for idx,row in df.iterrows():\n",
        "  temp.append(row)\n",
        "\n",
        "for i in temp:\n",
        "  stack = i.author_id.split(\";\")\n",
        "  for idx,j in enumerate(stack):\n",
        "    try:\n",
        "      if int(j)>0:\n",
        "        for k in stack[idx+1:]:\n",
        "          try:\n",
        "            if int(k)>0:\n",
        "              src.append(int(j))\n",
        "              tgt.append(int(k))\n",
        "          except:\n",
        "            continue\n",
        "    except:\n",
        "      continue\n",
        "\n",
        "df_edge = pd.DataFrame({\n",
        "    'Source':src,\n",
        "    'Target':tgt\n",
        "})\n",
        "\n",
        "df_edge.to_csv('edge.csv', index=False)"
      ],
      "metadata": {
        "id": "MNidrP5TaMM2"
      },
      "execution_count": null,
      "outputs": []
    }
  ]
}